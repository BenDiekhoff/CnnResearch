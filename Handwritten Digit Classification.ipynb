{
 "cells": [
  {
   "cell_type": "code",
   "execution_count": 9,
   "metadata": {},
   "outputs": [],
   "source": [
    "import sys\n",
    "import numpy\n",
    "numpy.set_printoptions(threshold=sys.maxsize)"
   ]
  },
  {
   "cell_type": "code",
   "execution_count": null,
   "metadata": {
    "scrolled": false
   },
   "outputs": [],
   "source": [
    "from keras.datasets import mnist\n",
    "from matplotlib import pyplot\n",
    "import tensorflow as tf\n",
    "# load train and test dataset\n",
    "def load_dataset():\n",
    "    # load dataset\n",
    "    (trainX, trainY), (testX, testY) = mnist.load_data()\n",
    "    \n",
    "    # reshape dataset to have a single color channel\n",
    "    # trainX.shape is 60000,28,28\n",
    "    trainX = trainX.reshape((trainX.shape[0], 28, 28, 1))\n",
    "    # trainX.shape is 60000,28,28,1\n",
    "    testX = testX.reshape((testX.shape[0], 28, 28, 1))\n",
    "    \n",
    "    # one hot encode target values\n",
    "    trainY = tf.keras.utils.to_categorical(trainY)\n",
    "    testY = tf.keras.utils.to_categorical(testY)\n",
    "    #print (f\"TRAIN X{trainX},\\n\\n\\nTRIAN Y {trainY}, \\n\\n\\nTEST X{testX}, \\n\\n\\nTEST Y{testY}\")\n",
    "    sreturn trainX, trainY, testX, testY\n",
    "    \n",
    "load_dataset()"
   ]
  },
  {
   "cell_type": "code",
   "execution_count": 18,
   "metadata": {},
   "outputs": [
    {
     "name": "stdout",
     "output_type": "stream",
     "text": [
      "60000\n",
      "60000\n",
      "10000\n",
      "10000\n"
     ]
    }
   ],
   "source": [
    "from keras.datasets import mnist\n",
    "from matplotlib import pyplot\n",
    "import tensorflow as tf\n",
    "# load train and test dataset\n",
    "def load_dataset():\n",
    "    # load dataset\n",
    "    (trainX, trainY), (testX, testY) = mnist.load_data()\n",
    "    #print (f\"TRIAN Y\\n {trainY}, \\n\\n\\nTEST Y\\n{testY}\")\n",
    "    \n",
    "    print(len(trainX))\n",
    "    print(len(trainY))\n",
    "\n",
    "    print(len(testX))\n",
    "    print(len(testY))\n",
    "\n",
    "\n",
    "    # # reshape dataset to have a single color channel\n",
    "    # # trainX.shape is 60000,28,28\n",
    "    # trainX = trainX.reshape((trainX.shape[0], 28, 28, 1))\n",
    "    # # trainX.shape is 60000,28,28,1\n",
    "    # testX = testX.reshape((testX.shape[0], 28, 28, 1))\n",
    "    \n",
    "    # # one hot encode target values\n",
    "    # print(trainY)\n",
    "    # print(\"======\")\n",
    "    # trainY = tf.keras.utils.to_categorical(trainY)\n",
    "    # print(type(trainY[0]))\n",
    "    # for x in trainY[1]:\n",
    "    #     print (x)\n",
    "    # testY = tf.keras.utils.to_categorical(testY)\n",
    "    # print (f\"TRAIN X{trainX},\\n\\n\\nTRIAN Y {trainY}, \\n\\n\\nTEST X{testX}, \\n\\n\\nTEST Y{testY}\")\n",
    "    #sreturn trainX, trainY, testX, testY\n",
    "    \n",
    "load_dataset()"
   ]
  },
  {
   "cell_type": "code",
   "execution_count": null,
   "metadata": {},
   "outputs": [],
   "source": []
  }
 ],
 "metadata": {
  "kernelspec": {
   "display_name": "Python 3",
   "language": "python",
   "name": "python3"
  },
  "language_info": {
   "codemirror_mode": {
    "name": "ipython",
    "version": 3
   },
   "file_extension": ".py",
   "mimetype": "text/x-python",
   "name": "python",
   "nbconvert_exporter": "python",
   "pygments_lexer": "ipython3",
   "version": "3.7.6"
  }
 },
 "nbformat": 4,
 "nbformat_minor": 4
}
